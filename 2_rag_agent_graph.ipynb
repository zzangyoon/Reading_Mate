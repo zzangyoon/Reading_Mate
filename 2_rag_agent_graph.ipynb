{
 "cells": [
  {
   "cell_type": "markdown",
   "id": "34dd4262",
   "metadata": {},
   "source": [
    "## RAG"
   ]
  },
  {
   "cell_type": "markdown",
   "id": "b97a64aa",
   "metadata": {},
   "source": [
    "### 1. pgvector 가져오기"
   ]
  },
  {
   "cell_type": "code",
   "execution_count": null,
   "id": "c428252e",
   "metadata": {},
   "outputs": [],
   "source": [
    "import os\n",
    "from dotenv import load_dotenv\n",
    "\n",
    "load_dotenv()\n",
    "\n",
    "DB_NAME = os.getenv(\"DB_NAME\")\n",
    "DB_USER = os.getenv(\"DB_USER\")\n",
    "DB_PASS = os.getenv(\"DB_PASS\") \n",
    "DB_HOST = os.getenv(\"DB_HOST\")\n",
    "DB_PORT = os.getenv(\"DB_PORT\")"
   ]
  },
  {
   "cell_type": "code",
   "execution_count": 25,
   "id": "bc9ec801",
   "metadata": {},
   "outputs": [
    {
     "name": "stdout",
     "output_type": "stream",
     "text": [
      "PGVector 연결 성공 :::  <langchain_community.vectorstores.pgvector.PGVector object at 0x0000024F26EA0DD0>\n"
     ]
    },
    {
     "name": "stderr",
     "output_type": "stream",
     "text": [
      "c:\\Reading_Mate\\.venv\\Lib\\site-packages\\langchain_community\\vectorstores\\pgvector.py:1096: LangChainPendingDeprecationWarning: Please use JSONB instead of JSON for metadata. This change will allow for more efficient querying that involves filtering based on metadata. Please note that filtering operators have been changed when using JSONB metadata to be prefixed with a $ sign to avoid name collisions with columns. If you're using an existing database, you will need to create a db migration for your metadata column to be JSONB and update your queries to use the new operators. \n",
      "  store = cls(\n"
     ]
    }
   ],
   "source": [
    "# 방법 1. psycopg2 연결 그대로 langchain pgvector 연결\n",
    "\n",
    "from langchain_openai import OpenAIEmbeddings\n",
    "from langchain_community.vectorstores import PGVector\n",
    "\n",
    "PGVECTOR_CONNECTION_STRING = f\"postgresql+psycopg2://{DB_USER}:{DB_PASS}@{DB_HOST}:{DB_PORT}/{DB_NAME}\"\n",
    "EMBEDDING_MODEL = \"text-embedding-3-small\"\n",
    "\n",
    "try:\n",
    "    embeddings = OpenAIEmbeddings(model=EMBEDDING_MODEL)\n",
    "except Exception as e:\n",
    "    print(f\"오류 ::: OpenAI 클라이언트 초기화 실패 : {e}\")\n",
    "\n",
    "vector_store = PGVector.from_existing_index(\n",
    "    embedding = embeddings,\n",
    "    collection_name = \"BOOK_CHUNKS\",\n",
    "    connection_string = PGVECTOR_CONNECTION_STRING\n",
    ")\n",
    "print(\"PGVector 연결 성공 ::: \",  vector_store)"
   ]
  },
  {
   "cell_type": "code",
   "execution_count": 26,
   "id": "18ca0e73",
   "metadata": {},
   "outputs": [
    {
     "name": "stdout",
     "output_type": "stream",
     "text": [
      "\n",
      "검색 결과: 30개\n",
      "\n",
      "============================================================\n",
      "결과 1\n",
      "============================================================\n",
      "챕터: the_wizard_of_oz - 19번째 청크\n",
      "내용: 허수아비는 장난스럽게 말했다. “우린 이제 머리, 가슴, 집, 그리고 용기를 찾는 여행자들이 되었군요.” 도로시가 웃었다. “그리고 토토는 우리 모두의 친구!” 그들은 함께 노란 벽돌길을 따라 걸었다. 숲속은 점점 밝아졌고, 새들이 다시 노래하기 시작했다. 도로시는 마음속으로 생각했다. ‘이제 정말 좋은 친구들을 만났어.’ 길을 걷던 중 사자가 물었다. “...\n",
      "\n",
      "============================================================\n",
      "결과 2\n",
      "============================================================\n",
      "챕터: the_wizard_of_oz - 18번째 청크\n",
      "내용: 바구니를 들고 토토를 안았으며, 사방이 고요한 숲속을 조심스레 지나갔다. 그러던 중, 갑자기 커다란 포효 소리가 울려 퍼졌다. “으르르르——!!!” 순식간에 커다란 사자가 덤벼들어 토토를 향해 뛰어들었다! 도로시는 비명을 지르며 앞으로 달려들었다. “토토를 건드리지 마!” 그녀는 두려움도 잊은 채 사자의 코를 손바닥으로 내리쳤다. 사자는 깜짝 놀라 뒷걸음질...\n",
      "\n",
      "============================================================\n",
      "결과 3\n",
      "============================================================\n",
      "챕터: the_wizard_of_oz - 0번째 청크\n",
      "내용: 오즈의 마법사 지은이: L. 프랭크 바움 제1장. 사이클론 (The Cyclone) 도로시는 캔자스의 넓은 대초원 한가운데에서 살고 있었다. 그녀는 농부인 헨리 아저씨와 그의 아내 엠 아주머니와 함께 살았다. 그들의 집은 아주 작았는데, 그것은 나무를 운반해오는 데 오랜 시간이 걸렸기 때문이다. 집은 벽 네 개와 바닥, 지붕으로 이루어진 단 하나의 방뿐이었...\n",
      "\n",
      "============================================================\n",
      "결과 4\n",
      "============================================================\n",
      "챕터: the_wizard_of_oz - 71번째 청크\n",
      "내용: 곳이 어딘지 알게 되는 것 같아.” 토토가 그녀의 무릎에 머리를 기대었다. 도로시는 미소 지었다. “이젠 어디에도 가지 않을 거야. 집이 제일이니까.” 바람이 살짝 불며 커튼이 흔들렸다. 도로시는 하늘을 보며 마음속으로 친구들을 떠올렸다 — 허수아비, 양철 나무꾼, 그리고 사자. 그들이 각자의 자리에서 잘 지내고 있을 거라 믿었다....\n",
      "\n",
      "============================================================\n",
      "결과 5\n",
      "============================================================\n",
      "챕터: the_wizard_of_oz - 52번째 청크\n",
      "내용: 그는 돌아와 친구들을 껴안았다. “드디어 마음을 얻었어요!” 허수아비와 사자가 진심으로 축하해주었다. 이제 사자의 차례였다. 그는 용기를 받기 위해 왕좌의 방으로 들어갔다. “전 용기를 원합니다.” 사자가 말했다. “좋아요.” 오즈가 대답하며 찬장 위에서 초록색 유리병을 꺼냈다. 그 안에는 반짝이는 액체가 들어 있었다. “이건 마시면 용기가 되는 물이란다....\n"
     ]
    }
   ],
   "source": [
    "retriever = vector_store.as_retriever(\n",
    "    search_type=\"similarity\",\n",
    "    search_kwargs={\"k\": 30}\n",
    ")\n",
    "\n",
    "user_input = \"사이클론이 뭐야?\"\n",
    "results = retriever.invoke(user_input)\n",
    "\n",
    "print(f\"\\n검색 결과: {len(results)}개\")\n",
    "for i, doc in enumerate(results[:5]):\n",
    "    print(f\"\\n{'='*60}\")\n",
    "    print(f\"결과 {i+1}\")\n",
    "    print(f\"{'='*60}\")\n",
    "    print(f\"챕터: {doc.metadata['chapter_name']}\")\n",
    "    print(f\"내용: {doc.page_content[:200]}...\")"
   ]
  },
  {
   "cell_type": "markdown",
   "id": "41d8cc5a",
   "metadata": {},
   "source": [
    "### chain 만들기"
   ]
  },
  {
   "cell_type": "markdown",
   "id": "f5e6b7ac",
   "metadata": {},
   "source": [
    "#### 1) pgvector 연결 함수"
   ]
  },
  {
   "cell_type": "code",
   "execution_count": null,
   "id": "5a54c938",
   "metadata": {},
   "outputs": [],
   "source": [
    "def get_vector_store(collection_name=\"BOOK_CHUNKS\"):\n",
    "    \"\"\"기존 PGVector 연결\"\"\"\n",
    "\n",
    "    DB_NAME = os.getenv(\"DB_NAME\")\n",
    "    DB_USER = os.getenv(\"DB_USER\")\n",
    "    DB_PASS = os.getenv(\"DB_PASS\") \n",
    "    DB_HOST = os.getenv(\"DB_HOST\")\n",
    "    DB_PORT = os.getenv(\"DB_PORT\")\n",
    "    \n",
    "    embeddings = OpenAIEmbeddings(model=\"text-embedding-3-small\")\n",
    "    PGVECTOR_CONNECTION_STRING = f\"postgresql+psycopg2://{DB_USER}:{DB_PASS}@{DB_HOST}:{DB_PORT}/{DB_NAME}\"\n",
    "    \n",
    "    vector_store = PGVector.from_existing_index(\n",
    "        embedding=embeddings,\n",
    "        collection_name=collection_name,\n",
    "        connection_string=PGVECTOR_CONNECTION_STRING\n",
    "    )\n",
    "    \n",
    "    return vector_store"
   ]
  },
  {
   "cell_type": "markdown",
   "id": "e70afd82",
   "metadata": {},
   "source": [
    "#### 2) retrieve 함수"
   ]
  },
  {
   "cell_type": "code",
   "execution_count": null,
   "id": "4f6c36c9",
   "metadata": {},
   "outputs": [],
   "source": [
    "def search_books(query, k=5):\n",
    "    \"\"\"책 내용 검색\"\"\"\n",
    "    vector_store = get_vector_store()\n",
    "    retriever = vector_store.as_retriever(\n",
    "        search_type=\"similarity\",\n",
    "        search_kwargs={\"k\": k}\n",
    "    )\n",
    "    return retriever"
   ]
  },
  {
   "cell_type": "markdown",
   "id": "283bd82f",
   "metadata": {},
   "source": [
    "#### 3) 문서 합치는 함수"
   ]
  },
  {
   "cell_type": "code",
   "execution_count": null,
   "id": "6dcf62f4",
   "metadata": {},
   "outputs": [],
   "source": [
    "def format_docs(docs):\n",
    "    tmp_docs = []\n",
    "    for item in docs:\n",
    "        tmp_docs.append(item.page_content)\n",
    "    return \"\\n\\n---\\n\\n\".join(tmp_docs)\n",
    "\n",
    "    # return \"\\n\\n\".join([f\"[{doc.metadata.get('chapter_name', 'N/A')}]\\n{doc.page_content}\" for doc in docs])"
   ]
  },
  {
   "cell_type": "code",
   "execution_count": null,
   "id": "1c68f59a",
   "metadata": {},
   "outputs": [],
   "source": [
    "from langchain_openai import OpenAIEmbeddings, ChatOpenAI\n",
    "from langchain_community.vectorstores import PGVector\n",
    "from langchain_core.prompts import ChatPromptTemplate\n",
    "from langchain_core.output_parsers import StrOutputParser\n",
    "from langchain_core.runnables import RunnablePassthrough, RunnableLambda\n",
    "\n",
    "# 1. 설정\n",
    "user_input = \"사이클론이 뭐야?\"\n",
    "llm = ChatOpenAI(model=\"gpt-4o\", temperature=0.3)\n",
    "retriever = search_books(user_input)\n",
    "\n",
    "# 2. 프롬프트\n",
    "template = \"\"\"다음 컨텍스트를 바탕으로 질문에 답변하세요:\n",
    "\n",
    "{context}\n",
    "\n",
    "질문: {question}\n",
    "답변:\"\"\"\n",
    "\n",
    "prompt = ChatPromptTemplate.from_template(template)\n",
    "\n",
    "# 3. 기본 체인 구성\n",
    "\n",
    "\n",
    "# 4. RAG 체인 구성\n",
    "rag_chain = (\n",
    "    {\n",
    "        \"context\": retriever | RunnableLambda(format_docs),\n",
    "        \"question\": RunnablePassthrough()}\n",
    "    | prompt\n",
    "    | llm\n",
    "    | StrOutputParser()\n",
    ")\n",
    "\n",
    "# 5. 사용\n",
    "question = \"사이클론이 뭐야?\"\n",
    "answer = rag_chain.invoke(question)\n",
    "\n",
    "print(f\"질문: {question}\")\n",
    "print(f\"\\n답변:\\n{answer}\")"
   ]
  },
  {
   "cell_type": "markdown",
   "id": "af528ee0",
   "metadata": {},
   "source": [
    "### (함수 생성)"
   ]
  },
  {
   "cell_type": "code",
   "execution_count": 30,
   "id": "a43947e6",
   "metadata": {},
   "outputs": [],
   "source": [
    "def get_vector_store(collection_name=\"BOOK_CHUNKS\"):\n",
    "    \"\"\"기존 PGVector 연결\"\"\"\n",
    "\n",
    "    DB_NAME = os.getenv(\"DB_NAME\")\n",
    "    DB_USER = os.getenv(\"DB_USER\")\n",
    "    DB_PASS = os.getenv(\"DB_PASS\") \n",
    "    DB_HOST = os.getenv(\"DB_HOST\")\n",
    "    DB_PORT = os.getenv(\"DB_PORT\")\n",
    "    \n",
    "    embeddings = OpenAIEmbeddings(model=\"text-embedding-3-small\")\n",
    "    PGVECTOR_CONNECTION_STRING = f\"postgresql+psycopg2://{DB_USER}:{DB_PASS}@{DB_HOST}:{DB_PORT}/{DB_NAME}\"\n",
    "    \n",
    "    vector_store = PGVector.from_existing_index(\n",
    "        embedding=embeddings,\n",
    "        collection_name=collection_name,\n",
    "        connection_string=PGVECTOR_CONNECTION_STRING\n",
    "    )\n",
    "    \n",
    "    return vector_store"
   ]
  },
  {
   "cell_type": "code",
   "execution_count": 31,
   "id": "a022f680",
   "metadata": {},
   "outputs": [],
   "source": [
    "def search_books(query, k=5):\n",
    "    \"\"\"책 내용 검색\"\"\"\n",
    "    vector_store = get_vector_store()\n",
    "    retriever = vector_store.as_retriever(\n",
    "        search_type=\"similarity\",\n",
    "        search_kwargs={\"k\": k}\n",
    "    )\n",
    "    results = retriever.invoke(query)\n",
    "    return results"
   ]
  },
  {
   "cell_type": "code",
   "execution_count": 33,
   "id": "4f293c9c",
   "metadata": {},
   "outputs": [
    {
     "name": "stderr",
     "output_type": "stream",
     "text": [
      "c:\\Reading_Mate\\.venv\\Lib\\site-packages\\langchain_community\\vectorstores\\pgvector.py:1096: LangChainPendingDeprecationWarning: Please use JSONB instead of JSON for metadata. This change will allow for more efficient querying that involves filtering based on metadata. Please note that filtering operators have been changed when using JSONB metadata to be prefixed with a $ sign to avoid name collisions with columns. If you're using an existing database, you will need to create a db migration for your metadata column to be JSONB and update your queries to use the new operators. \n",
      "  store = cls(\n"
     ]
    },
    {
     "name": "stdout",
     "output_type": "stream",
     "text": [
      "\n",
      "============================================================\n",
      "결과 1\n",
      "============================================================\n",
      "챕터: the_wizard_of_oz - 19번째 청크\n",
      "내용: 허수아비는 장난스럽게 말했다. “우린 이제 머리, 가슴, 집, 그리고 용기를 찾는 여행자들이 되었군요.” 도로시가 웃었다. “그리고 토토는 우리 모두의 친구!” 그들은 함께 노란 벽돌길을 따라 걸었다. 숲속은 점점 밝아졌고, 새들이 다시 노래하기 시작했다. 도로시는 마음속으로 생각했다. ‘이제 정말 좋은 친구들을 만났어.’ 길을 걷던 중 사자가 물었다. “...\n",
      "book_id: 1\n",
      "\n",
      "============================================================\n",
      "결과 2\n",
      "============================================================\n",
      "챕터: the_wizard_of_oz - 18번째 청크\n",
      "내용: 바구니를 들고 토토를 안았으며, 사방이 고요한 숲속을 조심스레 지나갔다. 그러던 중, 갑자기 커다란 포효 소리가 울려 퍼졌다. “으르르르——!!!” 순식간에 커다란 사자가 덤벼들어 토토를 향해 뛰어들었다! 도로시는 비명을 지르며 앞으로 달려들었다. “토토를 건드리지 마!” 그녀는 두려움도 잊은 채 사자의 코를 손바닥으로 내리쳤다. 사자는 깜짝 놀라 뒷걸음질...\n",
      "book_id: 1\n",
      "\n",
      "============================================================\n",
      "결과 3\n",
      "============================================================\n",
      "챕터: the_wizard_of_oz - 0번째 청크\n",
      "내용: 오즈의 마법사 지은이: L. 프랭크 바움 제1장. 사이클론 (The Cyclone) 도로시는 캔자스의 넓은 대초원 한가운데에서 살고 있었다. 그녀는 농부인 헨리 아저씨와 그의 아내 엠 아주머니와 함께 살았다. 그들의 집은 아주 작았는데, 그것은 나무를 운반해오는 데 오랜 시간이 걸렸기 때문이다. 집은 벽 네 개와 바닥, 지붕으로 이루어진 단 하나의 방뿐이었...\n",
      "book_id: 1\n",
      "\n",
      "============================================================\n",
      "결과 4\n",
      "============================================================\n",
      "챕터: the_wizard_of_oz - 71번째 청크\n",
      "내용: 곳이 어딘지 알게 되는 것 같아.” 토토가 그녀의 무릎에 머리를 기대었다. 도로시는 미소 지었다. “이젠 어디에도 가지 않을 거야. 집이 제일이니까.” 바람이 살짝 불며 커튼이 흔들렸다. 도로시는 하늘을 보며 마음속으로 친구들을 떠올렸다 — 허수아비, 양철 나무꾼, 그리고 사자. 그들이 각자의 자리에서 잘 지내고 있을 거라 믿었다....\n",
      "book_id: 1\n",
      "\n",
      "============================================================\n",
      "결과 5\n",
      "============================================================\n",
      "챕터: the_wizard_of_oz - 52번째 청크\n",
      "내용: 그는 돌아와 친구들을 껴안았다. “드디어 마음을 얻었어요!” 허수아비와 사자가 진심으로 축하해주었다. 이제 사자의 차례였다. 그는 용기를 받기 위해 왕좌의 방으로 들어갔다. “전 용기를 원합니다.” 사자가 말했다. “좋아요.” 오즈가 대답하며 찬장 위에서 초록색 유리병을 꺼냈다. 그 안에는 반짝이는 액체가 들어 있었다. “이건 마시면 용기가 되는 물이란다....\n",
      "book_id: 1\n"
     ]
    }
   ],
   "source": [
    "# 사용\n",
    "results = search_books(\"사이클론이 뭐야?\", k=30)\n",
    "\n",
    "for i, doc in enumerate(results[:5]):\n",
    "    print(f\"\\n{'='*60}\")\n",
    "    print(f\"결과 {i+1}\")\n",
    "    print(f\"{'='*60}\")\n",
    "    print(f\"챕터: {doc.metadata['chapter_name']}\")\n",
    "    print(f\"내용: {doc.page_content[:200]}...\")\n",
    "    print(f\"book_id: {doc.metadata['book_id']}\")"
   ]
  },
  {
   "cell_type": "code",
   "execution_count": 34,
   "id": "3f6bcee1",
   "metadata": {},
   "outputs": [
    {
     "name": "stdout",
     "output_type": "stream",
     "text": [
      "1\n"
     ]
    }
   ],
   "source": [
    "book_id = results[0].metadata['book_id']\n",
    "print(book_id)"
   ]
  },
  {
   "cell_type": "code",
   "execution_count": null,
   "id": "75ed0690",
   "metadata": {},
   "outputs": [],
   "source": [
    "from langchain_openai import OpenAIEmbeddings\n",
    "from langchain_community.vectorstores import PGVector\n",
    "import os\n",
    "\n",
    "def get_vector_store(collection_name=\"BOOK_CHUNKS\"):\n",
    "    \"\"\"기존 PGVector 연결\"\"\"\n",
    "\n",
    "    DB_NAME = os.getenv(\"DB_NAME\")\n",
    "    DB_USER = os.getenv(\"DB_USER\")\n",
    "    DB_PASS = os.getenv(\"DB_PASS\") \n",
    "    DB_HOST = os.getenv(\"DB_HOST\")\n",
    "    DB_PORT = os.getenv(\"DB_PORT\")\n",
    "    \n",
    "    PGVECTOR_CONNECTION_STRING = f\"postgresql+psycopg2://{DB_USER}:{DB_PASS}@{DB_HOST}:{DB_PORT}/{DB_NAME}\"\n",
    "    \n",
    "    embeddings = OpenAIEmbeddings(model=\"text-embedding-3-small\")\n",
    "    \n",
    "    vector_store = PGVector.from_existing_index(\n",
    "        embedding=embeddings,\n",
    "        collection_name=collection_name,\n",
    "        connection_string=PGVECTOR_CONNECTION_STRING\n",
    "    )\n",
    "    \n",
    "    return vector_store\n",
    "\n",
    "def search_books(query, k=5):\n",
    "    \"\"\"책 내용 검색\"\"\"\n",
    "    vector_store = get_vector_store()\n",
    "    retriever = vector_store.as_retriever(\n",
    "        search_type=\"similarity\",\n",
    "        search_kwargs={\"k\": k}\n",
    "    )\n",
    "    results = retriever.invoke(query)\n",
    "    return results\n",
    "\n",
    "# 사용\n",
    "results = search_books(\"사이클론이 뭐야?\", k=30)\n",
    "\n",
    "for i, doc in enumerate(results[:5]):\n",
    "    print(f\"\\n{'='*60}\")\n",
    "    print(f\"결과 {i+1}\")\n",
    "    print(f\"{'='*60}\")\n",
    "    print(f\"챕터: {doc.metadata['chapter_name']}\")\n",
    "    print(f\"내용: {doc.page_content[:200]}...\")"
   ]
  },
  {
   "cell_type": "markdown",
   "id": "d66f6a83",
   "metadata": {},
   "source": [
    "### 2. Node 생성"
   ]
  },
  {
   "cell_type": "code",
   "execution_count": 17,
   "id": "c460b59f",
   "metadata": {},
   "outputs": [],
   "source": [
    "from typing import List, TypedDict\n",
    "\n",
    "class KnowledgeSearchState(TypedDict):\n",
    "    query : str         # 사용자가 입력한 질문\n",
    "    route : str         # 질문경로 : rag / web\n",
    "    rag_docs : List[dict]   # rag에서 가져온 문서 리스트(내용/메타데이터)\n",
    "    web_docs : List[dict]   # 웹검색에서 가져온 문서 리스트(내용/메타데이터)\n",
    "    grade : float       # doc_grader에서 평가한 문서 신뢰도 점수 (0~1)\n",
    "    answer : str        # 최종 생성된 답변\n",
    "    replan : bool       # 재계획 필요 여부\n",
    "    log : List[str]     # 로그"
   ]
  },
  {
   "cell_type": "code",
   "execution_count": null,
   "id": "0b451d39",
   "metadata": {},
   "outputs": [],
   "source": [
    "def _log(st: KnowledgeSearchState, msg: str) -> None:\n",
    "    # 실행 로그를 추가하는 함수\n",
    "    st.setdefault(\"log\", []).append(msg)"
   ]
  },
  {
   "cell_type": "code",
   "execution_count": null,
   "id": "42bdff31",
   "metadata": {},
   "outputs": [],
   "source": [
    "from langchain_core.prompts import ChatPromptTemplate\n",
    "\n",
    "plan_system = (\n",
    "    \"당신은 전자책 도우미 챗봇이야. 독자의 질문에 간결하고 정확하게 대답한다.\"\n",
    "    \"\"\n",
    ")\n",
    "\n",
    "def planner_node(state: KnowledgeSearchState) -> KnowledgeSearchState:\n",
    "    user_input = state.get(\"query\", \"\")\n",
    "\n",
    "    prompt = ChatPromptTemplate.from_messages([\n",
    "        (\"system\", plan_system),\n",
    "        (\"user\", f\"\")\n",
    "    ])"
   ]
  },
  {
   "cell_type": "code",
   "execution_count": 4,
   "id": "60955c2d",
   "metadata": {},
   "outputs": [
    {
     "ename": "NameError",
     "evalue": "name 'KnowledgeSearchState' is not defined",
     "output_type": "error",
     "traceback": [
      "\u001b[31m---------------------------------------------------------------------------\u001b[39m",
      "\u001b[31mNameError\u001b[39m                                 Traceback (most recent call last)",
      "\u001b[36mCell\u001b[39m\u001b[36m \u001b[39m\u001b[32mIn[4]\u001b[39m\u001b[32m, line 1\u001b[39m\n\u001b[32m----> \u001b[39m\u001b[32m1\u001b[39m \u001b[38;5;28;01mdef\u001b[39;00m\u001b[38;5;250m \u001b[39m\u001b[34mrag_node\u001b[39m(state: \u001b[43mKnowledgeSearchState\u001b[49m) -> KnowledgeSearchState:\n\u001b[32m      2\u001b[39m \u001b[38;5;250m    \u001b[39m\u001b[33;03m\"\"\"\u001b[39;00m\n\u001b[32m      3\u001b[39m \u001b[33;03m    RAG용 노드\u001b[39;00m\n\u001b[32m      4\u001b[39m \u001b[33;03m    \"\"\"\u001b[39;00m\n\u001b[32m      5\u001b[39m     user_input = state.get(\u001b[33m\"\u001b[39m\u001b[33mquery\u001b[39m\u001b[33m\"\u001b[39m, \u001b[33m\"\u001b[39m\u001b[33m\"\u001b[39m)\n",
      "\u001b[31mNameError\u001b[39m: name 'KnowledgeSearchState' is not defined"
     ]
    }
   ],
   "source": [
    "def rag_node(state: KnowledgeSearchState) -> KnowledgeSearchState:\n",
    "    \"\"\"\n",
    "    RAG용 노드\n",
    "    \"\"\"\n",
    "    user_input = state.get(\"query\", \"\")\n",
    "    retriever = vector_store.as_retriever(\n",
    "        search_type = \"similarity\",\n",
    "        search_kwargs = {\"k\" : 30}\n",
    "    )\n",
    "    result = retriever.invoke(user_input)\n",
    "    \n",
    "    return null"
   ]
  },
  {
   "cell_type": "code",
   "execution_count": 20,
   "id": "22814ab3",
   "metadata": {},
   "outputs": [],
   "source": [
    "def planner_node(state):\n",
    "    return state\n",
    "\n",
    "def route_query(state):\n",
    "    if \"책\" in state[\"query\"]:\n",
    "        state[\"route\"] = \"rag\"\n",
    "    else:\n",
    "        state[\"route\"] = \"web\"\n",
    "    return state\n",
    "\n",
    "def rag_retrieve(state):\n",
    "    state[\"rag_docs\"] = [\"책 내용 일부 ...\"]\n",
    "    return state\n",
    "\n",
    "def web_search(state):\n",
    "    state[\"web_docs\"] = [\"웹 검색 결과 ...\"]\n",
    "    return state\n",
    "\n",
    "def doc_grader(state):\n",
    "    return state\n",
    "\n",
    "def generate_answer(state):\n",
    "    state[\"answer\"] = \"이건 오즈의 마법사 배경 설명이에요...\"\n",
    "    return state\n",
    "\n",
    "def hallucination_check(state):\n",
    "    state[\"replan_needed\"] = not bool(state[\"answer\"])  # 간단 검증\n",
    "    return state\n",
    "\n",
    "def replan(state):\n",
    "    state[\"route\"] = \"web\"  # 재시도 시 웹으로\n",
    "    state[\"rag_docs\"] = []\n",
    "    state[\"web_docs\"] = []\n",
    "    state[\"answer\"] = \"\"\n",
    "    return state\n"
   ]
  },
  {
   "cell_type": "code",
   "execution_count": 26,
   "id": "6edda652",
   "metadata": {},
   "outputs": [
    {
     "data": {
      "image/png": "[encoded data removed]",
      "text/plain": [
       "<langgraph.graph.state.CompiledStateGraph object at 0x000001B85F5EA030>"
      ]
     },
     "execution_count": 26,
     "metadata": {},
     "output_type": "execute_result"
    }
   ],
   "source": [
    "from langgraph.graph import StateGraph, START, END\n",
    "\n",
    "builder = StateGraph(KnowledgeSearchState)\n",
    "\n",
    "# 노드 추가\n",
    "builder.add_node(\"planner\", planner_node)\n",
    "# builder.add_node(\"router\", route_query)\n",
    "builder.add_node(\"rag_retrieve\", rag_retrieve)\n",
    "builder.add_node(\"web_search\", web_search)\n",
    "builder.add_node(\"doc_grader\", doc_grader)\n",
    "builder.add_node(\"generate\", generate_answer)\n",
    "builder.add_node(\"judge\", hallucination_check)\n",
    "builder.add_node(\"replan\", replan)\n",
    "\n",
    "# START → router\n",
    "builder.add_edge(START, \"planner\")\n",
    "\n",
    "builder.add_edge(\"planner\", \"rag_retrieve\")\n",
    "builder.add_edge(\"planner\", \"web_search\")\n",
    "\n",
    "# router 분기\n",
    "# builder.add_conditional_edges(\n",
    "#     \"router\",\n",
    "#     lambda state: state[\"route\"],\n",
    "#     {\"rag\": \"rag_retrieve\", \"web\": \"web_search\"}\n",
    "# )\n",
    "\n",
    "# 검색 → 평가 → 답변 생성\n",
    "# builder.add_edge(\"rag_retrieve\", \"doc_grader\")\n",
    "builder.add_conditional_edges(\n",
    "    \"rag_retrieve\",\n",
    "    lambda state: state.get(\"rag_replan\", False),  # rag_replan이 True면 재계획\n",
    "    {False: \"replan\", True: \"doc_grader\"}\n",
    ")\n",
    "builder.add_edge(\"web_search\", \"doc_grader\")\n",
    "builder.add_edge(\"doc_grader\", \"generate\")\n",
    "\n",
    "# generate → judge\n",
    "builder.add_edge(\"generate\", \"judge\")\n",
    "\n",
    "# judge에서 재계획 여부 분기\n",
    "builder.add_conditional_edges(\n",
    "    \"judge\",\n",
    "    lambda state: state.get(\"replan\", False),\n",
    "    {False: \"generate\", True: END}  # 재계획 시 generate로 바로\n",
    ")\n",
    "\n",
    "# replan 후 router로 돌아가기\n",
    "builder.add_edge(\"replan\", \"planner\")\n",
    "\n",
    "# 그래프 컴파일\n",
    "graph = builder.compile()\n",
    "graph\n"
   ]
  },
  {
   "cell_type": "markdown",
   "id": "27e2c1f4",
   "metadata": {},
   "source": [
    "---"
   ]
  },
  {
   "cell_type": "markdown",
   "id": "bcf6b0f5",
   "metadata": {},
   "source": [
    "pgvector 테스트"
   ]
  },
  {
   "cell_type": "code",
   "execution_count": 21,
   "id": "94b79618",
   "metadata": {},
   "outputs": [
    {
     "name": "stdout",
     "output_type": "stream",
     "text": [
      "==================================================\n",
      "PGVector 진단 시작\n",
      "==================================================\n",
      "\n",
      "1. pgvector extension: 설치됨\n",
      "\n",
      "2. LangChain 관련 테이블: [('langchain_pg_collection',), ('langchain_pg_embedding',)]\n",
      "\n",
      "3. 컬렉션 목록:\n",
      "   - BOOK_CHUNKS (UUID: cd100e30-e909-4ab7-9aff-5b17c5164e91)\n",
      "     데이터 개수: 0\n",
      "\n",
      "4. 전체 임베딩 데이터 개수: 0\n",
      "\n",
      "==================================================\n"
     ]
    }
   ],
   "source": [
    "def diagnose_pgvector():\n",
    "    import psycopg2\n",
    "    \n",
    "    conn = psycopg2.connect(\n",
    "        host=DB_HOST,\n",
    "        port=DB_PORT,\n",
    "        database=DB_NAME,\n",
    "        user=DB_USER,\n",
    "        password=DB_PASS\n",
    "    )\n",
    "    cursor = conn.cursor()\n",
    "    \n",
    "    print(\"=\" * 50)\n",
    "    print(\"PGVector 진단 시작\")\n",
    "    print(\"=\" * 50)\n",
    "    \n",
    "    # 1. pgvector extension 확인\n",
    "    cursor.execute(\"SELECT * FROM pg_extension WHERE extname = 'vector'\")\n",
    "    print(\"\\n1. pgvector extension:\", \"설치됨\" if cursor.fetchone() else \"설치 안됨\")\n",
    "    \n",
    "    # 2. 테이블 확인\n",
    "    cursor.execute(\"\"\"\n",
    "        SELECT table_name \n",
    "        FROM information_schema.tables \n",
    "        WHERE table_schema = 'public' \n",
    "        AND table_name LIKE '%langchain%'\n",
    "    \"\"\")\n",
    "    tables = cursor.fetchall()\n",
    "    print(\"\\n2. LangChain 관련 테이블:\", tables)\n",
    "    \n",
    "    # 3. 컬렉션 확인\n",
    "    try:\n",
    "        cursor.execute(\"SELECT name, uuid FROM langchain_pg_collection\")\n",
    "        collections = cursor.fetchall()\n",
    "        print(\"\\n3. 컬렉션 목록:\")\n",
    "        for name, uuid in collections:\n",
    "            print(f\"   - {name} (UUID: {uuid})\")\n",
    "            \n",
    "            # 각 컬렉션의 데이터 개수\n",
    "            cursor.execute(f\"\"\"\n",
    "                SELECT COUNT(*) \n",
    "                FROM langchain_pg_embedding \n",
    "                WHERE collection_id = '{uuid}'\n",
    "            \"\"\")\n",
    "            count = cursor.fetchone()[0]\n",
    "            print(f\"     데이터 개수: {count}\")\n",
    "    except Exception as e:\n",
    "        print(f\"\\n3. 컬렉션 확인 실패: {e}\")\n",
    "    \n",
    "    # 4. 전체 임베딩 데이터 확인\n",
    "    try:\n",
    "        cursor.execute(\"SELECT COUNT(*) FROM langchain_pg_embedding\")\n",
    "        total = cursor.fetchone()[0]\n",
    "        print(f\"\\n4. 전체 임베딩 데이터 개수: {total}\")\n",
    "        \n",
    "        if total > 0:\n",
    "            cursor.execute(\"SELECT document FROM langchain_pg_embedding LIMIT 1\")\n",
    "            sample = cursor.fetchone()[0]\n",
    "            print(f\"\\n   샘플 문서 (처음 100자):\\n   {sample[:100]}...\")\n",
    "    except Exception as e:\n",
    "        print(f\"\\n4. 데이터 확인 실패: {e}\")\n",
    "    \n",
    "    cursor.close()\n",
    "    conn.close()\n",
    "    print(\"\\n\" + \"=\" * 50)\n",
    "\n",
    "# 실행\n",
    "diagnose_pgvector()"
   ]
  },
  {
   "cell_type": "code",
   "execution_count": 22,
   "id": "fe25148c",
   "metadata": {},
   "outputs": [
    {
     "name": "stdout",
     "output_type": "stream",
     "text": [
      "BOOK_CHUNKS 테이블 구조:\n",
      "  - chunk_pk: bigint\n",
      "  - book_id: integer\n",
      "  - chunk_index: integer\n",
      "  - chapter_name: text\n",
      "  - text_content: text\n",
      "  - embedding: USER-DEFINED\n",
      "\n",
      "총 데이터 개수: 73\n"
     ]
    }
   ],
   "source": [
    "import psycopg2\n",
    "\n",
    "conn = psycopg2.connect(\n",
    "    host=DB_HOST, port=DB_PORT, database=DB_NAME,\n",
    "    user=DB_USER, password=DB_PASS\n",
    ")\n",
    "cursor = conn.cursor()\n",
    "\n",
    "# 테이블 구조 확인\n",
    "cursor.execute(\"\"\"\n",
    "    SELECT column_name, data_type \n",
    "    FROM information_schema.columns \n",
    "    WHERE table_name = 'book_chunks'\n",
    "    ORDER BY ordinal_position\n",
    "\"\"\")\n",
    "print(\"BOOK_CHUNKS 테이블 구조:\")\n",
    "for col in cursor.fetchall():\n",
    "    print(f\"  - {col[0]}: {col[1]}\")\n",
    "\n",
    "# 데이터 개수 확인\n",
    "cursor.execute(\"SELECT COUNT(*) FROM BOOK_CHUNKS\")\n",
    "print(f\"\\n총 데이터 개수: {cursor.fetchone()[0]}\")\n",
    "\n",
    "cursor.close()\n",
    "conn.close()"
   ]
  }
 ],
 "metadata": {
  "kernelspec": {
   "display_name": "Reading_Mate",
   "language": "python",
   "name": "python3"
  },
  "language_info": {
   "codemirror_mode": {
    "name": "ipython",
    "version": 3
   },
   "file_extension": ".py",
   "mimetype": "text/x-python",
   "name": "python",
   "nbconvert_exporter": "python",
   "pygments_lexer": "ipython3",
   "version": "3.12.11"
  }
 },
 "nbformat": 4,
 "nbformat_minor": 5
}
