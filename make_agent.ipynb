{
 "cells": [
  {
   "cell_type": "markdown",
   "id": "dfd15124",
   "metadata": {},
   "source": [
    "# RAG"
   ]
  },
  {
   "cell_type": "markdown",
   "id": "2564cd60",
   "metadata": {},
   "source": [
    "## 1. 기본 체인 생성"
   ]
  },
  {
   "cell_type": "markdown",
   "id": "d510043d",
   "metadata": {},
   "source": [
    "### 1) 함수 정의"
   ]
  },
  {
   "cell_type": "code",
   "execution_count": 100,
   "id": "2dead59d",
   "metadata": {},
   "outputs": [],
   "source": [
    "import os\n",
    "def get_connection_string() -> str:\n",
    "    \"\"\"환경 변수 기반 DB 연결 문자열 생성\"\"\"\n",
    "\n",
    "    DB_NAME = os.getenv(\"DB_NAME\")\n",
    "    DB_USER = os.getenv(\"DB_USER\")\n",
    "    DB_PASS = os.getenv(\"DB_PASS\") \n",
    "    DB_HOST = os.getenv(\"DB_HOST\")\n",
    "    DB_PORT = os.getenv(\"DB_PORT\")\n",
    "\n",
    "    if not all([DB_NAME, DB_USER, DB_PASS, DB_HOST, DB_PORT]):\n",
    "        raise ValueError(\"DB 연결 정보를 환경 변수에서 찾을 수 없습니다.\")\n",
    "    \n",
    "    connection_string = f\"postgresql+psycopg2://{DB_USER}:{DB_PASS}@{DB_HOST}:{DB_PORT}/{DB_NAME}\"\n",
    "    return connection_string"
   ]
  },
  {
   "cell_type": "code",
   "execution_count": null,
   "id": "a79ee0ef",
   "metadata": {},
   "outputs": [],
   "source": [
    "# pgvector 연결 함수\n",
    "import os\n",
    "from langchain_openai import OpenAIEmbeddings\n",
    "from langchain_community.vectorstores import PGVector\n",
    "\n",
    "def get_vector_store(collection_name=\"BOOK_CHUNKS\"):\n",
    "    \"\"\"기존 PGVector 연결\"\"\"\n",
    "    \n",
    "    PGVECTOR_CONNECTION_STRING = get_connection_string()\n",
    "    \n",
    "    embeddings = OpenAIEmbeddings(model=\"text-embedding-3-small\")\n",
    "    \n",
    "    vector_store = PGVector.from_existing_index(\n",
    "        embedding=embeddings,\n",
    "        collection_name=collection_name,\n",
    "        connection_string=PGVECTOR_CONNECTION_STRING\n",
    "    )\n",
    "    \n",
    "    return vector_store"
   ]
  },
  {
   "cell_type": "code",
   "execution_count": 102,
   "id": "9b4725e9",
   "metadata": {},
   "outputs": [],
   "source": [
    "from sqlalchemy import create_engine, text\n",
    "\n",
    "def get_book_metadata(book_id: int):\n",
    "    \"\"\" 책 메타데이터 조회 \"\"\"\n",
    "    PGVECTOR_CONNECTION_STRING = get_connection_string()\n",
    "    \n",
    "    engine = create_engine(PGVECTOR_CONNECTION_STRING)\n",
    "\n",
    "    with engine.connect() as conn:\n",
    "        result = conn.execute(\n",
    "            text(\"SELECT title_ko, author FROM BOOKS WHERE book_id = :book_id\"),\n",
    "            {\"book_id\" : book_id}\n",
    "        ).fetchone()\n",
    "\n",
    "        if not result:\n",
    "            raise ValueError(f\"book_id {book_id} 에 해당하는 책이 없습니다.\")\n",
    "        \n",
    "        return {\n",
    "            \"book_title\": result[0],\n",
    "            \"book_author\": result[1]\n",
    "        }"
   ]
  },
  {
   "cell_type": "code",
   "execution_count": null,
   "id": "84258595",
   "metadata": {},
   "outputs": [],
   "source": [
    "# 하이브리드 검색 함수\n",
    "def hybrid_search(inputs: dict) -> dict:\n",
    "    \"\"\"구절 기반 + 질문 기반 하이브리드 검색\"\"\"\n",
    "    print(\"inputs ::: \", inputs)\n",
    "    vector_store = get_vector_store()\n",
    "    selected_passage = inputs.get(\"selected_passage\", \"\").strip()\n",
    "    user_question = inputs.get(\"user_question\", \"\").strip()\n",
    "    k = inputs.get(\"k\", 5)\n",
    "    \n",
    "    # 질문이 없을 경우\n",
    "    if not selected_passage and not user_question:\n",
    "        raise ValueError(\"검색할 구절(selected_passage) 또는 질문(user_question) 중 적어도 하나는 제공되어야 합니다.\")\n",
    "    \n",
    "    # 구절로 검색 (맥락 찾기)\n",
    "    passage_docs = []\n",
    "    if selected_passage:\n",
    "        print(\"passage_docs !!!\")\n",
    "        passage_docs = vector_store.similarity_search(selected_passage, k=3)\n",
    "    \n",
    "    # 질문으로 검색 (답변 찾기)\n",
    "    question_docs = []\n",
    "    if user_question:\n",
    "        print(\"question_docs !!!\")\n",
    "        question_docs = vector_store.similarity_search(user_question, k=3)\n",
    "    \n",
    "    # 중복 제거 및 합치기\n",
    "    seen_contents = set()\n",
    "    unique_docs = []\n",
    "    \n",
    "    for doc in passage_docs + question_docs:\n",
    "        if doc.page_content not in seen_contents:\n",
    "            seen_contents.add(doc.page_content)\n",
    "            unique_docs.append(doc)\n",
    "    \n",
    "    # 상위 k개만 선택\n",
    "    selected_docs = unique_docs[:k]\n",
    "    # print(f\"selected_docs ::: {selected_docs[0].metadata[\"book_id\"]}\")\n",
    "    book_id = selected_docs[0].metadata[\"book_id\"]\n",
    "    metadatas = get_book_metadata(book_id)  # dict\n",
    "    \n",
    "    # 포맷팅\n",
    "    formatted = []\n",
    "    for i, doc in enumerate(selected_docs, 1):\n",
    "        chapter = doc.metadata.get('chapter_name', 'Unknown')\n",
    "        formatted.append(f\"[구절 {i} - {chapter}]\\n{doc.page_content}\")\n",
    "    \n",
    "    return {\n",
    "        \"text\" : \"\\n\\n\".join(formatted),\n",
    "        \"book_title\" : metadatas.get(\"book_title\"),\n",
    "        \"book_author\" : metadatas.get(\"book_author\")\n",
    "    }"
   ]
  },
  {
   "cell_type": "markdown",
   "id": "8ea4981f",
   "metadata": {},
   "source": [
    "### 2) prompt"
   ]
  },
  {
   "cell_type": "code",
   "execution_count": 104,
   "id": "ae692bf6",
   "metadata": {},
   "outputs": [],
   "source": [
    "from langchain_core.prompts import ChatPromptTemplate\n",
    "\n",
    "prompt = ChatPromptTemplate.from_messages([\n",
    "    (\"system\",\n",
    "     \"\"\"\n",
    "        당신은 친절하고 깊이 있는 독서 도우미입니다.\n",
    "\n",
    "        ### 지시사항\n",
    "        1. 먼저, 선택한 구절이 책에서 어떤 맥락으로 나왔는지 간략히 설명해 주세요.\n",
    "        2. 이어서, 사용자의 질문에 대해 책 내부 지식과 적절한 외부 배경지식을 병합하여 답변해 주세요.\n",
    "        3. 답변은 **3~5개의 핵심 포인트**로 구조화해서 나열해 주세요.\n",
    "        4. 외부 배경지식이나 추가 정보는 \"배경지식\" 섹션으로 따로 표기해 주세요.\n",
    "        5. 책 본문에 명확히 나오지 않는 내용은 \"책 본문 내 명시는 없지만…\"으로 표시해 주세요.\n",
    "        6. 마지막으로 \"A.다음 읽을만한 구절\" 또는 \"A.연계 질문\"을 제시해 주세요.\n",
    "\n",
    "        ### 출력 형식\n",
    "        **구절의 맥락**\n",
    "        [간략한 맥락 설명]\n",
    "\n",
    "        **질문에 대한 답변**\n",
    "        1. [핵심 포인트 1]\n",
    "        2. [핵심 포인트 2]\n",
    "        3. [핵심 포인트 3]\n",
    "\n",
    "        **배경지식**\n",
    "        [추가 정보]\n",
    "\n",
    "        **추천**\n",
    "        [다음 구절 또는 연계 질문]\n",
    "    \"\"\"),\n",
    "            \n",
    "    (\"human\",\n",
    "     \"\"\"\n",
    "        현재 사용자는 다음 책을 읽고 있습니다:\n",
    "        - 책 제목: {book_title}\n",
    "        - 저자: {book_author}\n",
    "\n",
    "        아래는 사용자가 선택한 구절입니다:\n",
    "        \"{selected_passage}\"\n",
    "\n",
    "        사용자의 질문:\n",
    "        \"{user_question}\"\n",
    "\n",
    "        ### 참고할 책 내용 (검색된 관련 구절들):\n",
    "        {context}\n",
    "    \"\"\"\n",
    "    )\n",
    "])"
   ]
  },
  {
   "cell_type": "markdown",
   "id": "4cbc606c",
   "metadata": {},
   "source": [
    "### 3) chain 생성"
   ]
  },
  {
   "cell_type": "code",
   "execution_count": 105,
   "id": "7d41f35b",
   "metadata": {},
   "outputs": [],
   "source": [
    "from langchain_openai import ChatOpenAI\n",
    "from langchain_core.output_parsers import StrOutputParser\n",
    "\n",
    "model = ChatOpenAI(model=\"gpt-4o\", temperature=0.3)\n",
    "outputparser = StrOutputParser()\n",
    "\n",
    "chain = prompt | model | outputparser"
   ]
  },
  {
   "cell_type": "markdown",
   "id": "b47d16a3",
   "metadata": {},
   "source": [
    "## 2. RAG chain 생성"
   ]
  },
  {
   "cell_type": "code",
   "execution_count": null,
   "id": "4c5730b3",
   "metadata": {},
   "outputs": [],
   "source": [
    "rag_chain = (\n",
    "    {\n",
    "        \"context\": lambda x: x[\"context\"],\n",
    "        \"book_title\": lambda x: x[\"book_title\"],\n",
    "        \"book_author\": lambda x: x[\"book_author\"],\n",
    "        \"selected_passage\": lambda x: x[\"selected_passage\"],\n",
    "        \"user_question\": lambda x: x[\"user_question\"]\n",
    "    }\n",
    "    | chain\n",
    ")"
   ]
  },
  {
   "cell_type": "markdown",
   "id": "3f3ec5b4",
   "metadata": {},
   "source": [
    "## 3. 테스트"
   ]
  },
  {
   "cell_type": "code",
   "execution_count": 107,
   "id": "4090a47b",
   "metadata": {},
   "outputs": [],
   "source": [
    "def ask_reading_assistant(input_dict: dict):\n",
    "    \"\"\"독서 도우미에게 질문하기\"\"\"\n",
    "\n",
    "    hybrid_result = hybrid_search(input_dict)\n",
    "\n",
    "    book_title = hybrid_result.get(\"book_title\")\n",
    "    book_author = hybrid_result.get(\"book_author\")\n",
    "    context = hybrid_result.get(\"text\")\n",
    "    selected_passage = input_dict.get(\"selected_passage\")\n",
    "    user_question = input_dict.get(\"user_question\")\n",
    "    \n",
    "    input_data = {\n",
    "        \"context\" : context,\n",
    "        \"book_title\": book_title,\n",
    "        \"book_author\": book_author,\n",
    "        \"selected_passage\": selected_passage,\n",
    "        \"user_question\": user_question\n",
    "    }\n",
    "    \n",
    "    # 체인 실행\n",
    "    response = rag_chain.invoke(input_data)\n",
    "    \n",
    "    return response"
   ]
  },
  {
   "cell_type": "code",
   "execution_count": 108,
   "id": "e0d2f067",
   "metadata": {},
   "outputs": [
    {
     "name": "stdout",
     "output_type": "stream",
     "text": [
      "inputs :::  {'selected_passage': \"그곳은 '사이클론 지하실'이라 불렸는데, 거대한 회오리바람이 불 때 피할 수 있도록 만든 곳이었다.\", 'user_question': '사이클론 지하실이 왜 필요했나요? 실제로 이런 지하실이 있나요?', 'k': 5}\n"
     ]
    },
    {
     "name": "stderr",
     "output_type": "stream",
     "text": [
      "c:\\Reading_Mate\\.venv\\Lib\\site-packages\\langchain_community\\vectorstores\\pgvector.py:1096: LangChainPendingDeprecationWarning: Please use JSONB instead of JSON for metadata. This change will allow for more efficient querying that involves filtering based on metadata. Please note that filtering operators have been changed when using JSONB metadata to be prefixed with a $ sign to avoid name collisions with columns. If you're using an existing database, you will need to create a db migration for your metadata column to be JSONB and update your queries to use the new operators. \n",
      "  store = cls(\n"
     ]
    },
    {
     "name": "stdout",
     "output_type": "stream",
     "text": [
      "passage_docs !!!\n",
      "question_docs !!!\n",
      "selected_docs ::: page_content='도로시와 친구들은 싸우는 나무들의 숲을 벗어나 밝은 햇살 아래로 나왔다. 그들 앞에는 반짝이는 언덕이 펼쳐져 있었고, 언덕 위에는 하얀 벽과 탑이 있는 신비한 나라가 보였다. “저곳은 뭐지?” 도로시가 물었다. “햇빛에 반짝이는 걸 보니… 유리로 된 나라 같아요.” 허수아비가 대답했다. “가서 확인해봅시다.” 사자가 말했다. 그들이 언덕을 오르자, 갑자기 벽 앞에서 ‘딱!’ 하는 소리가 났다. 양철 나무꾼이 조심스럽게 손으로 벽을 두드리자, 맑고 청명한 유리 소리가 났다. “정말이네요. 전부 도자기로 만들어졌어요.” 그가 감탄했다. 도로시가 문을 살짝 밀자, 벽이 부드럽게 열리며 그 안으로 들어갈 수 있었다. 그리고 그들이 본 광경은 놀라웠다. 도시 전체가 반짝이는 흰색 도자기로 되어 있었고, 사람들도 모두 작고 아름다운 도자기 인형이었다. 그들은 분홍빛 볼과 파란 눈, 그리고 섬세한 표정을 가지고 있었다. 도로시가 조심스레 다가가 인사했다. “안녕하세요. 저희는 여행자예요.” 한 도자기 여인이 놀란 듯 고개를 들었다. “쉿! 제발 조심하세요. 우리 몸은 깨지기 쉬워요.” 도로시는 황급히 한걸음 물러났다. “미안해요, 부딪치려던 건 아니에요.” 그 여인은 웃으며 말했다. “괜찮아요. 하지만 우리에게 너무 가까이 오면 금이 갈 수도 있어요.” 그때 작은 도자기 소녀가 뛰어왔다. 그녀는 귀여운 분홍 드레스를 입고 있었다. “안녕! 난 인형 나라의 공주야!” 도로시는 미소 지었다. “정말 예쁘구나.” 소녀가 부끄러워하며 말했다. “고마워. 하지만 가끔은 지루해. 여긴 너무 조용하거든.” 허수아비가 주변을 둘러보며 말했다. “이 도시는 정말 깨끗하고 멋지네요.” 그러자 도자기 병사가 다가와 말했다. “모두 조심하세요! 외부인이 실수로라도 우리를 깨뜨리면, 다시는 고칠 수 없어요.” 양철 나무꾼이 정중히 고개를 숙였다. “걱정 마세요. 우린 매우 조심할 거예요.” 그들은 천천히 거리를 걸었다. 가게마다 하얀 찻잔, 접시, 인형들이 놓여 있었고, 반짝이는 색들이 햇빛에' metadata={'book_id': 1, 'chunk_index': 60, 'chapter_name': 'the_wizard_of_oz - 60번째 청크'}\n",
      "selected_docs ::: 1\n"
     ]
    }
   ],
   "source": [
    "# 이 두가지를 앞단에서 받아올것 (selected_passage, user_question)\n",
    "selected_passage = \"그곳은 '사이클론 지하실'이라 불렸는데, 거대한 회오리바람이 불 때 피할 수 있도록 만든 곳이었다.\"\n",
    "user_question = \"사이클론 지하실이 왜 필요했나요? 실제로 이런 지하실이 있나요?\"\n",
    "k = 5\n",
    "\n",
    "input_dict = {\n",
    "    \"selected_passage\" : selected_passage,\n",
    "    \"user_question\" : user_question,\n",
    "    \"k\" : k\n",
    "}\n",
    "\n",
    "rag_result = ask_reading_assistant(input_dict)"
   ]
  },
  {
   "cell_type": "code",
   "execution_count": 109,
   "id": "d2cf47ba",
   "metadata": {},
   "outputs": [
    {
     "name": "stdout",
     "output_type": "stream",
     "text": [
      "**구절의 맥락**\n",
      "이 구절은 도로시가 살고 있는 캔자스의 농가에서 사이클론 지하실의 존재를 설명하는 부분입니다. 사이클론 지하실은 거대한 회오리바람, 즉 토네이도가 발생할 때 피신할 수 있는 안전한 장소로, 도로시와 그녀의 가족이 위급한 상황에서 몸을 숨길 수 있도록 만들어졌습니다.\n",
      "\n",
      "**질문에 대한 답변**\n",
      "1. **사이클론 지하실의 필요성**: 캔자스는 미국의 토네이도 벨트에 위치해 있어 토네이도가 자주 발생합니다. 이러한 자연재해로부터 안전을 확보하기 위해 사이클론 지하실은 필수적입니다. 이는 가족들이 토네이도가 발생했을 때 즉각적으로 피신할 수 있는 장소를 제공합니다.\n",
      "   \n",
      "2. **실제 존재 여부**: 실제로 미국 중서부 지역에서는 사이클론 지하실이 흔히 사용됩니다. 이러한 지하실은 주로 집이나 근처에 설치되며, 두꺼운 콘크리트로 만들어져 강한 바람과 파편으로부터 보호할 수 있습니다.\n",
      "\n",
      "3. **도로시의 경험**: 도로시의 집이 토네이도에 휘말려 오즈의 세계로 날아가는 사건은, 그녀가 지하실에 피신하지 못했기 때문에 발생한 것입니다. 이는 사이클론 지하실의 중요성을 극적으로 보여줍니다.\n",
      "\n",
      "**배경지식**\n",
      "- **토네이도 벨트**: 미국 중서부의 평원 지역으로, 토네이도가 빈번하게 발생하는 곳입니다. 이 지역에서는 토네이도 대비책으로 사이클론 지하실이 널리 사용됩니다.\n",
      "- **지하실 구조**: 사이클론 지하실은 보통 지하에 위치하며, 강력한 바람과 파편으로부터 보호하기 위해 두꺼운 벽과 문으로 설계됩니다.\n",
      "\n",
      "**추천**\n",
      "A.연계 질문: \"도로시가 오즈의 세계로 날아가게 된 사건은 그녀의 삶에 어떤 변화를 가져왔나요?\"\n"
     ]
    }
   ],
   "source": [
    "print(rag_result)"
   ]
  },
  {
   "cell_type": "code",
   "execution_count": 35,
   "id": "90fc34d9",
   "metadata": {},
   "outputs": [
    {
     "name": "stdout",
     "output_type": "stream",
     "text": [
      "**구절의 맥락**\n",
      "이 구절은 도로시가 살고 있는 캔자스의 농장에서 사이클론(회오리바람)이 발생했을 때의 상황을 설명합니다. '사이클론 지하실'은 이러한 거대한 회오리바람으로부터 안전하게 피신할 수 있도록 설계된 공간입니다. 도로시와 그녀의 가족은 이러한 자연재해에 대비하기 위해 지하실을 사용합니다.\n",
      "\n",
      "**질문에 대한 답변**\n",
      "1. **사이클론 지하실의 필요성**: 사이클론은 매우 강력한 회오리바람으로, 특히 미국 중서부의 평원 지역에서 자주 발생합니다. 이러한 자연재해는 집과 같은 구조물을 파괴할 수 있기 때문에, 지하실은 안전한 피난처로 사용됩니다.\n",
      "2. **실제 존재 여부**: 실제로 미국의 토네이도 벨트 지역에서는 사이클론 지하실이나 토네이도 셸터가 일반적입니다. 이는 주민들이 토네이도 발생 시 안전하게 피신할 수 있도록 설계된 공간입니다.\n",
      "3. **도로시의 경험**: 도로시가 사이클론에 휘말려 오즈의 세계로 이동하게 되는 사건은 이러한 지하실에 피신하지 못한 결과로 발생합니다. 이는 이야기의 주요 전개를 이끄는 중요한 사건입니다.\n",
      "\n",
      "**배경지식**\n",
      "- **토네이도 벨트**: 미국 중서부 지역은 '토네이도 벨트'로 알려져 있으며, 이 지역에서는 매년 수많은 토네이도가 발생합니다. 이러한 이유로 많은 가정에서 지하실이나 특별히 강화된 피난처를 마련하고 있습니다.\n",
      "- **사이클론과 토네이도**: 사이클론은 일반적으로 열대성 폭풍을 의미하지만, 미국에서는 종종 토네이도와 같은 강력한 회오리바람을 지칭하기도 합니다.\n",
      "\n",
      "**추천**\n",
      "A.다음 읽을만한 구절: 도로시가 오즈의 세계에 도착한 후 처음으로 만나는 친구들, 즉 허수아비, 양철 나무꾼, 그리고 사자와의 만남 장면을 읽어보세요. 이들은 도로시의 여정에서 중요한 동반자가 됩니다.\n"
     ]
    }
   ],
   "source": [
    "print(rag_result)"
   ]
  },
  {
   "cell_type": "markdown",
   "id": "b75db849",
   "metadata": {},
   "source": [
    "# Web search"
   ]
  },
  {
   "cell_type": "code",
   "execution_count": 36,
   "id": "e5bbd25a",
   "metadata": {},
   "outputs": [],
   "source": [
    "from langchain_core.prompts import ChatPromptTemplate\n",
    "\n",
    "web_search_prompt = ChatPromptTemplate.from_messages([\n",
    "    (\"system\", \"\"\"\n",
    "    당신은 친절하고 깊이 있는 독서 도우미입니다.\n",
    "    사용자가 제공한 구절에 대해 툴을 사용해서 답변해 주세요.\n",
    "    책 본문에 명시되지 않은 내용은 \"책 본문 내 명시는 없지만…\"으로 표시해 주세요.\n",
    "    \"\"\"),\n",
    "    (\"human\", \"\"\"\n",
    "    현재 사용자는 다음 책을 읽고 있습니다:\n",
    "        - 책 제목: {book_title}\n",
    "        - 저자: {book_author}\n",
    "\n",
    "        아래는 사용자가 선택한 구절입니다:\n",
    "        \"{selected_passage}\"\n",
    "\n",
    "        사용자의 질문:\n",
    "        \"{user_question}\"\n",
    "    \"\"\"),\n",
    "    (\"placeholder\", \"{agent_scratchpad}\")\n",
    "])"
   ]
  },
  {
   "cell_type": "code",
   "execution_count": 37,
   "id": "55a2f9c9",
   "metadata": {},
   "outputs": [],
   "source": [
    "from langchain.agents import create_openai_tools_agent, AgentExecutor\n",
    "from langchain_tavily import TavilySearch\n",
    "from langchain_openai import ChatOpenAI\n",
    "\n",
    "llm = ChatOpenAI(\n",
    "    model = \"gpt-4.1-mini\",\n",
    "    temperature = 0\n",
    ")\n",
    "\n",
    "# Tool 정의\n",
    "tavily_search = TavilySearch()\n",
    "tools = [tavily_search]\n",
    "\n",
    "agent = create_openai_tools_agent(\n",
    "    llm = llm,\n",
    "    tools = tools,\n",
    "    prompt = web_search_prompt\n",
    ")\n",
    "\n",
    "# executor 설정\n",
    "executor = AgentExecutor(\n",
    "    agent = agent,\n",
    "    tools = tools,\n",
    "    verbose = True\n",
    ")"
   ]
  },
  {
   "cell_type": "code",
   "execution_count": null,
   "id": "69028fdc",
   "metadata": {},
   "outputs": [],
   "source": [
    "def web_search(\n",
    "    selected_passage: str,\n",
    "    user_question: str,\n",
    "    book_title: str = \"오즈의 마법사\",\n",
    "    book_author: str = \"L. 프랭크 바움\"\n",
    "    # 이 부분에서 books table에서 title과 author 가져올 수 있는 방법 없는지 확인\n",
    "):\n",
    "    \"\"\"독서 도우미에게 질문하기\"\"\"\n",
    "    \n",
    "    input_data = {\n",
    "        \"selected_passage\": selected_passage,\n",
    "        \"user_question\": user_question,\n",
    "        \"book_title\": book_title,\n",
    "        \"book_author\": book_author\n",
    "    }\n",
    "    \n",
    "    # 체인 실행\n",
    "    rlt = executor.invoke(input_data)\n",
    "    \n",
    "    return rlt"
   ]
  },
  {
   "cell_type": "code",
   "execution_count": 39,
   "id": "59f1bbe4",
   "metadata": {},
   "outputs": [
    {
     "name": "stdout",
     "output_type": "stream",
     "text": [
      "\n",
      "\n",
      "\u001b[1m> Entering new AgentExecutor chain...\u001b[0m\n",
      "\u001b[32;1m\u001b[1;3m\"사이클론 지하실\"은 책에서 거대한 회오리바람(사이클론)이 불 때 사람들이 안전하게 피할 수 있도록 만든 장소입니다. 즉, 자연재해인 회오리바람으로부터 보호하기 위해 필요했던 공간입니다. \n",
      "\n",
      "실제로도 회오리바람이나 토네이도 같은 강력한 바람이 자주 발생하는 지역에서는 사람들이 안전하게 대피할 수 있도록 지하실이나 방공호 같은 보호 시설을 마련하는 경우가 있습니다. 미국 중서부 지역 등 토네이도가 자주 발생하는 곳에서는 토네이도 셸터(tornado shelter)라고 불리는 지하 대피소가 실제로 존재합니다.\n",
      "\n",
      "따라서, 책 속의 \"사이클론 지하실\"은 회오리바람으로부터 안전을 확보하기 위한 현실적인 개념을 바탕으로 한 설정이라고 볼 수 있습니다.\u001b[0m\n",
      "\n",
      "\u001b[1m> Finished chain.\u001b[0m\n"
     ]
    }
   ],
   "source": [
    "selected_passage = \"그곳은 '사이클론 지하실'이라 불렸는데, 거대한 회오리바람이 불 때 피할 수 있도록 만든 곳이었다.\"\n",
    "user_question = \"사이클론 지하실이 왜 필요했나요? 실제로 이런 지하실이 있나요?\"\n",
    "# user_question = \"\"\n",
    "\n",
    "web_result = web_search(\n",
    "    selected_passage=selected_passage,\n",
    "    user_question=user_question\n",
    ")"
   ]
  },
  {
   "cell_type": "code",
   "execution_count": 40,
   "id": "6117be57",
   "metadata": {},
   "outputs": [
    {
     "name": "stdout",
     "output_type": "stream",
     "text": [
      "\"사이클론 지하실\"은 책에서 거대한 회오리바람(사이클론)이 불 때 사람들이 안전하게 피할 수 있도록 만든 장소입니다. 즉, 자연재해인 회오리바람으로부터 보호하기 위해 필요했던 공간입니다. \n",
      "\n",
      "실제로도 회오리바람이나 토네이도 같은 강력한 바람이 자주 발생하는 지역에서는 사람들이 안전하게 대피할 수 있도록 지하실이나 방공호 같은 보호 시설을 마련하는 경우가 있습니다. 미국 중서부 지역 등 토네이도가 자주 발생하는 곳에서는 토네이도 셸터(tornado shelter)라고 불리는 지하 대피소가 실제로 존재합니다.\n",
      "\n",
      "따라서, 책 속의 \"사이클론 지하실\"은 회오리바람으로부터 안전을 확보하기 위한 현실적인 개념을 바탕으로 한 설정이라고 볼 수 있습니다.\n"
     ]
    }
   ],
   "source": [
    "print(web_result[\"output\"])"
   ]
  },
  {
   "cell_type": "code",
   "execution_count": 41,
   "id": "0bb5ade0",
   "metadata": {},
   "outputs": [
    {
     "name": "stdout",
     "output_type": "stream",
     "text": [
      "\"사이클론 지하실\"은 책에서 거대한 회오리바람(사이클론)이 불 때 사람들이 안전하게 피할 수 있도록 만든 장소입니다. 즉, 자연재해인 회오리바람으로부터 보호하기 위해 필요했던 공간입니다. \n",
      "\n",
      "실제로도 회오리바람이나 토네이도 같은 강력한 바람이 자주 발생하는 지역에서는 사람들이 안전하게 대피할 수 있도록 지하실이나 방공호 같은 보호 시설을 마련하는 경우가 있습니다. 미국 중서부 지역 등 토네이도가 자주 발생하는 곳에서는 토네이도 셸터(tornado shelter)라고 불리는 지하 대피소가 실제로 존재합니다.\n",
      "\n",
      "따라서, 책 속의 \"사이클론 지하실\"은 회오리바람으로부터 안전을 확보하기 위한 현실적인 개념을 바탕으로 한 설정이라고 볼 수 있습니다.\n"
     ]
    }
   ],
   "source": [
    "web_result = web_result[\"output\"]\n",
    "print(web_result)"
   ]
  },
  {
   "cell_type": "code",
   "execution_count": null,
   "id": "2ebf448d",
   "metadata": {},
   "outputs": [],
   "source": [
    "# query = \"서울 날씨 알려줘\"\n",
    "# result = agent.run(query)\n",
    "# print(result)"
   ]
  },
  {
   "cell_type": "markdown",
   "id": "f65cb3e6",
   "metadata": {},
   "source": [
    "# Doc Grader"
   ]
  },
  {
   "cell_type": "code",
   "execution_count": 49,
   "id": "3e13a4b3",
   "metadata": {},
   "outputs": [],
   "source": [
    "from langchain_core.prompts import ChatPromptTemplate\n",
    "from langchain_openai import ChatOpenAI\n",
    "\n",
    "# prompt\n",
    "merge_prompt = ChatPromptTemplate.from_messages([\n",
    "    (\"system\", \"\"\"\n",
    "    당신은 책과 외부 자료를 결합해 답변하는 독서 도우미입니다.\n",
    "    아래 두 개의 출처를 바탕으로 사용자의 질문에 답해주세요.\n",
    "\n",
    "    - 책 기반 답변은 신뢰도가 높지만 내부 지식에 한정됩니다.\n",
    "    - 웹 검색 기반 답변은 외부 지식으로 보완합니다.\n",
    "    두 정보를 조합하여 일관되고 근거 있는 최종 답변을 만들어주세요.\n",
    "    \"\"\"),\n",
    "    (\"human\", \"\"\"\n",
    "    책 기반 RAG 결과:\n",
    "    {rag_result}\n",
    "\n",
    "    웹 검색 결과:\n",
    "    {web_result}\n",
    "\n",
    "    사용자 질문:\n",
    "    {user_question}\n",
    "\n",
    "    ### 출력 형식\n",
    "    **최종 통합 답변**\n",
    "    [핵심 포인트 요약]\n",
    "\n",
    "    **책에서의 맥락**\n",
    "    [요약]\n",
    "\n",
    "    **외부 정보**\n",
    "    [웹에서 얻은 관련 정보]\n",
    "    \"\"\")\n",
    "])\n",
    "\n",
    "llm_merge  = ChatOpenAI(model=\"gpt-4o\", temperature=0.3)\n",
    "\n",
    "def doc_grader_merge_only(rag_result, web_result, user_question):\n",
    "    input_data = {\n",
    "        \"rag_result\": rag_result,\n",
    "        \"web_result\": web_result,\n",
    "        \"user_question\": user_question\n",
    "    }\n",
    "    merge_chain = merge_prompt | llm_merge\n",
    "    return merge_chain.invoke(input_data)"
   ]
  },
  {
   "cell_type": "code",
   "execution_count": 50,
   "id": "31aecd0c",
   "metadata": {},
   "outputs": [],
   "source": [
    "final_answer = doc_grader_merge_only(rag_result, web_result, user_question)"
   ]
  },
  {
   "cell_type": "code",
   "execution_count": 52,
   "id": "eafc1f9a",
   "metadata": {},
   "outputs": [
    {
     "name": "stdout",
     "output_type": "stream",
     "text": [
      "**최종 통합 답변**\n",
      "사이클론 지하실은 강력한 회오리바람인 사이클론이나 토네이도로부터 안전하게 피신하기 위한 공간입니다. 이러한 지하실은 특히 미국 중서부의 토네이도 벨트 지역에서 실제로 존재하며, 주민들이 자연재해에 대비하기 위해 사용됩니다.\n",
      "\n",
      "**책에서의 맥락**\n",
      "사이클론 지하실은 도로시가 살고 있는 캔자스의 농장에서 사이클론이 발생했을 때 안전하게 피신할 수 있도록 설계된 공간입니다. 도로시와 그녀의 가족은 이러한 자연재해에 대비하기 위해 지하실을 사용하지만, 도로시는 피신하지 못해 오즈의 세계로 이동하게 됩니다.\n",
      "\n",
      "**외부 정보**\n",
      "실제로 미국 중서부 지역에서는 토네이도가 자주 발생하기 때문에, 많은 가정에서 토네이도 셸터라고 불리는 지하 대피소를 마련하고 있습니다. 이는 주민들이 토네이도 발생 시 안전하게 피신할 수 있도록 설계된 공간입니다. 책 속의 \"사이클론 지하실\"은 이러한 현실적인 개념을 바탕으로 한 설정입니다.\n"
     ]
    }
   ],
   "source": [
    "print(final_answer.content)"
   ]
  },
  {
   "cell_type": "code",
   "execution_count": null,
   "id": "edf25aa0",
   "metadata": {},
   "outputs": [],
   "source": [
    "# 테스트\n",
    "def combined_reading_assistant(selected_passage, user_question, book_title=\"오즈의 마법사\", book_author=\"L. 프랭크 바움\"):\n",
    "    # RAG\n",
    "    rag_result = ask_reading_assistant(selected_passage, user_question, book_title, book_author)\n",
    "    \n",
    "    # Web Search\n",
    "    web_result = web_search(selected_passage, user_question, book_title, book_author)\n",
    "    \n",
    "    # 두 결과 병합\n",
    "    final_answer = doc_grader_merge_only(rag_result, web_result, user_question)\n",
    "    \n",
    "    return final_answer\n"
   ]
  }
 ],
 "metadata": {
  "kernelspec": {
   "display_name": "Reading_Mate",
   "language": "python",
   "name": "python3"
  },
  "language_info": {
   "codemirror_mode": {
    "name": "ipython",
    "version": 3
   },
   "file_extension": ".py",
   "mimetype": "text/x-python",
   "name": "python",
   "nbconvert_exporter": "python",
   "pygments_lexer": "ipython3",
   "version": "3.12.11"
  }
 },
 "nbformat": 4,
 "nbformat_minor": 5
}
